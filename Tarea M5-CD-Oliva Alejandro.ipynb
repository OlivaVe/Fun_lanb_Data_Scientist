{
 "cells": [
  {
   "cell_type": "markdown",
   "metadata": {},
   "source": [
    "# Practica:\n",
    "\n",
    "Desarrolle un programa que a través de una función denominada “Invierte_cadena” sea capaz de invertir una cadena de caracteres.\n",
    "\n",
    "Por ejemplo, si ejecutamos: Invierte_cadena(“123abc”)\n",
    "\n",
    "debemos obtener: “cba321”"
   ]
  },
  {
   "cell_type": "code",
   "execution_count": 1,
   "metadata": {},
   "outputs": [],
   "source": [
    "# Creación de peticion de palabra con imprecion para comprobación con la palabra inverza. \n",
    "def peticion():\n",
    "    # solicitud\n",
    "    palabra = input('Palabra a invertir:')\n",
    "    # impresion de palabra\n",
    "    print( palabra )\n",
    "    # retorno para futuro uso en diferentes funciones.\n",
    "    return palabra"
   ]
  },
  {
   "cell_type": "code",
   "execution_count": 2,
   "metadata": {},
   "outputs": [
    {
     "name": "stdout",
     "output_type": "stream",
     "text": [
      "parangaricutirimicuaro\n",
      "La inversión es: oraucimirituciragnarap\n"
     ]
    }
   ],
   "source": [
    "# definicion de funcion sin parametros de entrada.\n",
    "def invierte_cadena(  ):\n",
    "    # solicitud de palabra.\n",
    "    palabra = peticion()\n",
    "    # analisis de tamaño de la palabra.\n",
    "    tamaño = len(palabra)\n",
    "    # se crea una bandera para futuro uso. \n",
    "    flag = []\n",
    "\n",
    "    # Verificación si la palabra tiene solo un carácter.\n",
    "    if tamaño == 1:\n",
    "        # se imprime caso de ser solo una letra. \n",
    "        print('La inversión es: ' + palabra)\n",
    "        # se detiene por completo la función. \n",
    "        return None\n",
    "\n",
    "    # Convertir la palabra a una lista para poder modificarla.\n",
    "    palabra_lista = list(palabra)\n",
    "    \n",
    "    # Bucle para invertir la palabra hasta la mitad de la palabra, \n",
    "    # // dicta que sera la mitad de tamaño (valor enter).\n",
    "    for i in range(tamaño // 2):\n",
    "        # se asocia la letra en la bandera para poder modificar \n",
    "        # la letra sin perder dicha información.\n",
    "        flag = palabra_lista[i]\n",
    "        # se modifica dicha letra con su opuesta en posición.\n",
    "        palabra_lista[i] = palabra_lista[tamaño - i - 1]\n",
    "        # la opuesta en posición es cambiada con la letra almacenada.\n",
    "        palabra_lista[tamaño - i - 1] = flag\n",
    "    \n",
    "    # Convertir la lista de vuelta a una cadena.\n",
    "    palabra_invertida = ''.join(palabra_lista)\n",
    "    # se imprime el resultado.\n",
    "    print('La inversión es: ' + palabra_invertida)\n",
    "\n",
    "# se llama a la función.\n",
    "invierte_cadena()"
   ]
  },
  {
   "cell_type": "markdown",
   "metadata": {},
   "source": [
    "# Forma corta y abstracta.\n",
    "***\n",
    "Paso 1"
   ]
  },
  {
   "cell_type": "code",
   "execution_count": 3,
   "metadata": {},
   "outputs": [
    {
     "name": "stdout",
     "output_type": "stream",
     "text": [
      "oxidodesoxiribunocleico\n",
      "La inversión es: ocielconubirixosedodixo\n"
     ]
    }
   ],
   "source": [
    "# se crea una función que recorre la informacion desde el inicio\n",
    "# hasta el fin de la palabra llendo en forma inverza. \n",
    "def Invierte(palabra):\n",
    "    # se regresa dicha palabra. \n",
    "    return palabra[::-1]\n",
    "\n",
    "# se crea la funcion\n",
    "def invierte_cadena_corta_1():\n",
    "    # se pide la palabra.\n",
    "    palabra = peticion()\n",
    "    # se invierte la palabra gracias a la función.\n",
    "    palabra_invertida = Invierte(palabra)\n",
    "    # se imprime el resultado.\n",
    "    print('La inversión es: ' + palabra_invertida)\n",
    "\n",
    "# Llamada a la función principal\n",
    "invierte_cadena_corta_1()"
   ]
  },
  {
   "cell_type": "markdown",
   "metadata": {},
   "source": [
    "***\n",
    "Paso 2"
   ]
  },
  {
   "cell_type": "code",
   "execution_count": 4,
   "metadata": {},
   "outputs": [
    {
     "name": "stdout",
     "output_type": "stream",
     "text": [
      "crisantemo\n",
      "La inversión es: ometnasirc\n"
     ]
    }
   ],
   "source": [
    "# se define la función.\n",
    "def invierte_cadena_corta_2():\n",
    "    # se solicita la palabra.\n",
    "    palabra = peticion()\n",
    "    # en lugar de crear una función se hace uso de lambda\n",
    "    # haciendo flag una función de inverción.\n",
    "    flag = lambda palabra: palabra[::-1]\n",
    "    # se almacena la palabra invertida.\n",
    "    palabra_invertida = flag( palabra )\n",
    "    # se imprime el resultado.\n",
    "    print('La inversión es: ' + palabra_invertida)\n",
    "\n",
    "# Llamada a la función principal\n",
    "invierte_cadena_corta_2()"
   ]
  },
  {
   "cell_type": "markdown",
   "metadata": {},
   "source": [
    "***\n",
    "Paso 3"
   ]
  },
  {
   "cell_type": "code",
   "execution_count": 5,
   "metadata": {},
   "outputs": [
    {
     "name": "stdout",
     "output_type": "stream",
     "text": [
      "colocataire\n",
      "La inversion de colocataire es: eriatacoloc\n"
     ]
    }
   ],
   "source": [
    "# se crea función.\n",
    "def invierte_cadena_corta_3():\n",
    "    # se hace petición de la palabra.\n",
    "    palabra = peticion()\n",
    "    # se imprime el resultado usando una función lambda que invierte la palabra\n",
    "    # introduciendola desde un principio. \n",
    "    print( f'La inversion de {palabra} es: { (lambda palabra: palabra[::-1])(palabra) }')\n",
    "\n",
    "# se imprime los resultados. \n",
    "invierte_cadena_corta_3()"
   ]
  },
  {
   "cell_type": "markdown",
   "metadata": {},
   "source": [
    "Escribe una función en Python llamada “prueba_primo” que tome un número como parámetro y compruebe si el número es primo o no.\n",
    "* Nota: Un número primo es un número natural mayor que 1 y que no tiene divisores positivos más que 1 y él mismo.\n",
    "###### Por ejemplo, si ejecutamos: prueba_primo(7)      debemos obtener: True"
   ]
  },
  {
   "cell_type": "code",
   "execution_count": 6,
   "metadata": {},
   "outputs": [
    {
     "name": "stdout",
     "output_type": "stream",
     "text": [
      "7\n"
     ]
    },
    {
     "data": {
      "text/plain": [
       "True"
      ]
     },
     "execution_count": 6,
     "metadata": {},
     "output_type": "execute_result"
    }
   ],
   "source": [
    "# definición de función.\n",
    "def prueba_primo():\n",
    "    \n",
    "    # se corre un try por si el numero no es entero positivo. \n",
    "    try:\n",
    "        # se solicita el número.\n",
    "        numero = int(input('dame un numero entero: '))\n",
    "        # se imprime el numero para comparación final. \n",
    "        print(numero)\n",
    "        # en caso de no ser numero marcaría error. \n",
    "        flag_numero = numero + 1\n",
    "\n",
    "    # si se presentara un error    \n",
    "    except:\n",
    "        # se muestra que no es entero positivo\n",
    "        print('Ese no es un numero entero.')\n",
    "        # se termina la función. \n",
    "        return None\n",
    "    \n",
    "    # caso especifico del 0\n",
    "    if numero == 0:\n",
    "        # se muestra como no primo. \n",
    "        return False\n",
    "    \n",
    "    # se inicializa la bandera como cierta\n",
    "    # tomando el cuenta que el numero fuera 1.\n",
    "    flag_a = True\n",
    "\n",
    "    # se va recorriendo de 2 a numero - 1 (por syntaxis de python) \n",
    "    # ya que un primo se puede dividir entre si mismo y 1.\n",
    "    for i in range( 2, numero ):\n",
    "        # si existiera algun numero que al dividirlo el residuo\n",
    "        # resultara 0 significa ya no es primo. \n",
    "        if numero%i == 0:\n",
    "            # en caso de ser divicible se cambia la bandera.\n",
    "            flag_a = False\n",
    "            # muestra con que numeros es divicible. \n",
    "            print(f'Es divicible entre :{i}     {numero}/{i}={round(numero/i)}')\n",
    "    # se devuelve la bandera.\n",
    "    return flag_a\n",
    "\n",
    "# se llama a la función. \n",
    "prueba_primo()"
   ]
  }
 ],
 "metadata": {
  "kernelspec": {
   "display_name": "Python 3",
   "language": "python",
   "name": "python3"
  },
  "language_info": {
   "codemirror_mode": {
    "name": "ipython",
    "version": 3
   },
   "file_extension": ".py",
   "mimetype": "text/x-python",
   "name": "python",
   "nbconvert_exporter": "python",
   "pygments_lexer": "ipython3",
   "version": "3.12.4"
  }
 },
 "nbformat": 4,
 "nbformat_minor": 2
}
